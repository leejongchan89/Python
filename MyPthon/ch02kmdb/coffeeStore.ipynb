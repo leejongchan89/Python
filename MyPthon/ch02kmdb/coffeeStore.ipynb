{
 "cells": [
  {
   "cell_type": "code",
   "execution_count": 1,
   "id": "74209b15-30b4-47d0-b94e-4f9a19657471",
   "metadata": {},
   "outputs": [],
   "source": [
    "import pandas as pd\n",
    "import numpy as np\n",
    "import folium\n",
    "import requests\n",
    "\n",
    "from bs4 import BeautifulSoup\n",
    "\n",
    "# pip install tqdm : progressBar 구현\n",
    "from tqdm.notebook import tqdm \n",
    "from selenium import webdriver\n",
    "\n",
    "from selenium.webdriver.common.by import By\n",
    "from selenium.webdriver.support.ui import WebDriverWait\n",
    "from selenium.webdriver.support import expected_conditions as EC\n",
    "from selenium.webdriver.chrome.service import Service\n",
    "\n",
    "# jupyter nbconvert --to script coffeeStore.ipynb"
   ]
  },
  {
   "cell_type": "code",
   "execution_count": 5,
   "id": "ea43382b-4564-4302-b343-670463768c59",
   "metadata": {},
   "outputs": [
    {
     "name": "stdout",
     "output_type": "stream",
     "text": [
      "<class 'selenium.webdriver.chrome.webdriver.WebDriver'>\n"
     ]
    }
   ],
   "source": [
    "chrome_options = webdriver.ChromeOptions() # 크롬 브라우저 옵션\n",
    "drive_path = 'chromedriver.exe' # 다운로드 받은 드라이버 파일\n",
    "myservice = Service(drive_path) # 드라이버 제어를 위한 서비스 객체\n",
    "driver = webdriver.Chrome(service=myservice, options=chrome_options) # 드라이버 객체\n",
    "print(type(driver)) # 객체가 잘 생성되었는 지 확인\n",
    "\n",
    "wait_time = 10 # 최대 대기 시간\n",
    "driver.implicitly_wait(wait_time)"
   ]
  },
  {
   "cell_type": "code",
   "execution_count": 3,
   "id": "ce08360f-e414-4bad-97cb-1d3f7b954bc2",
   "metadata": {},
   "outputs": [],
   "source": [
    "driver.maximize_window() # 윈도우 창 최대화"
   ]
  },
  {
   "cell_type": "code",
   "execution_count": 9,
   "id": "944d9693-697e-48bb-996f-f0b48cf576a9",
   "metadata": {},
   "outputs": [],
   "source": [
    "# 스타벅스) 매장 찾기-지역 검색 링크 주소\n",
    "starbucks_url = 'https://www.starbucks.co.kr/store/store_map.do?disp=locale'\n",
    "driver.get(starbucks_url) # 해당 페이지로 이동하기"
   ]
  },
  {
   "cell_type": "code",
   "execution_count": 10,
   "id": "92362e95-4e3b-4242-8384-62fc57d03ac5",
   "metadata": {},
   "outputs": [],
   "source": [
    "# 스타벅스) '서울' 링크 클릭\n",
    "starbucks_seoul_selector = '#container > div > form > fieldset > div > section > article.find_store_cont > article > article:nth-child(4) > div.loca_step1 > div.loca_step1_cont > ul > li:nth-child(1) > a'\n",
    "WebDriverWait(driver, 5).until(EC.presence_of_element_located((By.CSS_SELECTOR, starbucks_seoul_selector))).click() # 5초 텀을 두고 클릭한다?\n"
   ]
  },
  {
   "cell_type": "code",
   "execution_count": 11,
   "id": "dff90248-1219-471d-817b-fffbbcbeec18",
   "metadata": {},
   "outputs": [],
   "source": [
    "# 스타벅스) '서울'-'전체' 클릭\n",
    "starbucks_seoul_all = '#mCSB_2_container > ul > li:nth-child(1) > a'\n",
    "WebDriverWait(driver, 5).until(EC.presence_of_element_located((By.CSS_SELECTOR, starbucks_seoul_all))).click()"
   ]
  },
  {
   "cell_type": "code",
   "execution_count": 41,
   "id": "867dd8dd-ddfa-418c-8f11-0a4561f95c56",
   "metadata": {},
   "outputs": [
    {
     "name": "stdout",
     "output_type": "stream",
     "text": [
      "starbucks.html 파일 생성됨\n"
     ]
    }
   ],
   "source": [
    "# 스타벅스 html 코드를 파싱하여 html 파일에 기록합니다.\n",
    "html = driver.page_source # 해당 페이지의 소스 코드 반환\n",
    "filename = 'starbucks.html'\n",
    "htmlfile = open(filename, 'w', encoding='UTF-8')\n",
    "print(html, file=htmlfile)\n",
    "htmlfile.close()\n",
    "print(filename + ' 파일 생성됨')"
   ]
  },
  {
   "cell_type": "code",
   "execution_count": 42,
   "id": "81c7fc3c-ee6f-45de-9ad4-5db98d4b4247",
   "metadata": {},
   "outputs": [
    {
     "name": "stdout",
     "output_type": "stream",
     "text": [
      "<class 'bs4.BeautifulSoup'>\n"
     ]
    }
   ],
   "source": [
    "# https://www.crummy.com/software/BeautifulSoup/bs4/doc/\n",
    "# 파싱된 결과를 Beautiful Soup 객체로 생성합니다.\n",
    "soup = BeautifulSoup(html, 'html.parser')\n",
    "print(type(soup))"
   ]
  },
  {
   "cell_type": "code",
   "execution_count": 43,
   "id": "8953823c-b209-492a-881b-abdd074d8e90",
   "metadata": {},
   "outputs": [
    {
     "name": "stdout",
     "output_type": "stream",
     "text": [
      "storeAll : 615\n"
     ]
    }
   ],
   "source": [
    "# 매장 정보들을 담고 있는 컨테이너 박스를 찾습니다.\n",
    "# 컨테이너는 div 태그이고, id가 mCSB_3_container입니다.\n",
    "container = soup.find('div', id='mCSB_3_container')\n",
    "storeAll = container.find_all('li')\n",
    "print('storeAll : %d' % len(storeAll))"
   ]
  },
  {
   "cell_type": "code",
   "execution_count": 58,
   "id": "06c528a6-2b39-4c72-a5d6-b833709c7a96",
   "metadata": {},
   "outputs": [
    {
     "name": "stdout",
     "output_type": "stream",
     "text": [
      "615\n"
     ]
    }
   ],
   "source": [
    "starbucksData = []\n",
    "\n",
    "for store in storeAll:\n",
    "    # print(store)\n",
    "    brand = '스타벅스'\n",
    "    name = store.find('strong').text.strip() # 공백 없애주기\n",
    "    address = store.find('p').text.strip().replace('1522-3232', '')\n",
    "    imsi = address.split(' ') # split()의 반환타입은 list이다.\n",
    "    gu = imsi[1]\n",
    "    latitude = store['data-lat'] # 위도 / 속성은 []로 가져온다.\n",
    "    longitude = store['data-long'] # 경도\n",
    "    # print('[' + name + ']')\n",
    "    # print('[' + address + ']')\n",
    "    # print(imsi)\n",
    "    # print(gu)\n",
    "    # print(latitude)\n",
    "    # print(longitude)\n",
    "\n",
    "    starbucksData.append([brand, name, address, gu, latitude, longitude])\n",
    "    # break\n",
    "    \n",
    "print(len(starbucksData))"
   ]
  },
  {
   "cell_type": "code",
   "execution_count": 80,
   "id": "9f223773-cc90-4fb9-8d28-a15abe46c54b",
   "metadata": {},
   "outputs": [
    {
     "data": {
      "text/html": [
       "<div>\n",
       "<style scoped>\n",
       "    .dataframe tbody tr th:only-of-type {\n",
       "        vertical-align: middle;\n",
       "    }\n",
       "\n",
       "    .dataframe tbody tr th {\n",
       "        vertical-align: top;\n",
       "    }\n",
       "\n",
       "    .dataframe thead th {\n",
       "        text-align: right;\n",
       "    }\n",
       "</style>\n",
       "<table border=\"1\" class=\"dataframe\">\n",
       "  <thead>\n",
       "    <tr style=\"text-align: right;\">\n",
       "      <th></th>\n",
       "      <th>브랜드</th>\n",
       "      <th>상호</th>\n",
       "      <th>주소</th>\n",
       "      <th>군구</th>\n",
       "      <th>위도</th>\n",
       "      <th>경도</th>\n",
       "    </tr>\n",
       "  </thead>\n",
       "  <tbody>\n",
       "    <tr>\n",
       "      <th>0</th>\n",
       "      <td>스타벅스</td>\n",
       "      <td>역삼아레나빌딩</td>\n",
       "      <td>서울특별시 강남구 언주로 425 (역삼동)</td>\n",
       "      <td>강남구</td>\n",
       "      <td>37.501087</td>\n",
       "      <td>127.043069</td>\n",
       "    </tr>\n",
       "    <tr>\n",
       "      <th>1</th>\n",
       "      <td>스타벅스</td>\n",
       "      <td>논현역사거리</td>\n",
       "      <td>서울특별시 강남구 강남대로 538 (논현동)</td>\n",
       "      <td>강남구</td>\n",
       "      <td>37.510178</td>\n",
       "      <td>127.022223</td>\n",
       "    </tr>\n",
       "    <tr>\n",
       "      <th>2</th>\n",
       "      <td>스타벅스</td>\n",
       "      <td>신사역성일빌딩</td>\n",
       "      <td>서울특별시 강남구 강남대로 584 (논현동)</td>\n",
       "      <td>강남구</td>\n",
       "      <td>37.5139309</td>\n",
       "      <td>127.0206057</td>\n",
       "    </tr>\n",
       "    <tr>\n",
       "      <th>3</th>\n",
       "      <td>스타벅스</td>\n",
       "      <td>국기원사거리</td>\n",
       "      <td>서울특별시 강남구 테헤란로 125 (역삼동)</td>\n",
       "      <td>강남구</td>\n",
       "      <td>37.499517</td>\n",
       "      <td>127.031495</td>\n",
       "    </tr>\n",
       "    <tr>\n",
       "      <th>4</th>\n",
       "      <td>스타벅스</td>\n",
       "      <td>대치재경빌딩</td>\n",
       "      <td>서울특별시 강남구 남부순환로 2947 (대치동)</td>\n",
       "      <td>강남구</td>\n",
       "      <td>37.494668</td>\n",
       "      <td>127.062583</td>\n",
       "    </tr>\n",
       "    <tr>\n",
       "      <th>5</th>\n",
       "      <td>스타벅스</td>\n",
       "      <td>봉은사역</td>\n",
       "      <td>서울특별시 강남구 봉은사로 619 (삼성동)</td>\n",
       "      <td>강남구</td>\n",
       "      <td>37.515000</td>\n",
       "      <td>127.063196</td>\n",
       "    </tr>\n",
       "    <tr>\n",
       "      <th>6</th>\n",
       "      <td>스타벅스</td>\n",
       "      <td>압구정윤성빌딩</td>\n",
       "      <td>서울특별시 강남구 논현로 834 (신사동)</td>\n",
       "      <td>강남구</td>\n",
       "      <td>37.5227934</td>\n",
       "      <td>127.0286009</td>\n",
       "    </tr>\n",
       "  </tbody>\n",
       "</table>\n",
       "</div>"
      ],
      "text/plain": [
       "    브랜드       상호                          주소   군구          위도           경도\n",
       "0  스타벅스  역삼아레나빌딩     서울특별시 강남구 언주로 425 (역삼동)  강남구   37.501087   127.043069\n",
       "1  스타벅스   논현역사거리    서울특별시 강남구 강남대로 538 (논현동)  강남구   37.510178   127.022223\n",
       "2  스타벅스  신사역성일빌딩    서울특별시 강남구 강남대로 584 (논현동)  강남구  37.5139309  127.0206057\n",
       "3  스타벅스   국기원사거리    서울특별시 강남구 테헤란로 125 (역삼동)  강남구   37.499517   127.031495\n",
       "4  스타벅스   대치재경빌딩  서울특별시 강남구 남부순환로 2947 (대치동)  강남구   37.494668   127.062583\n",
       "5  스타벅스     봉은사역    서울특별시 강남구 봉은사로 619 (삼성동)  강남구   37.515000   127.063196\n",
       "6  스타벅스  압구정윤성빌딩     서울특별시 강남구 논현로 834 (신사동)  강남구  37.5227934  127.0286009"
      ]
     },
     "execution_count": 80,
     "metadata": {},
     "output_type": "execute_result"
    }
   ],
   "source": [
    "sbDataFrame = pd.DataFrame(starbucksData)\n",
    "sbDataFrame.columns = ['브랜드', '상호', '주소', '군구', '위도', '경도']\n",
    "sbDataFrame.head(n=7) #default는 5개 / 반대 메소드 .tail"
   ]
  },
  {
   "cell_type": "code",
   "execution_count": 84,
   "id": "ef1748d1-b3a9-4d09-9259-e8ee94413d88",
   "metadata": {},
   "outputs": [
    {
     "name": "stdout",
     "output_type": "stream",
     "text": [
      "위도 누락 데이터 개수 : 0\n"
     ]
    }
   ],
   "source": [
    "# print(sbDataFrame.isnull().sum())\n",
    "print('위도 누락 데이터 개수 : %d' % sbDataFrame['위도'].isnull().sum())"
   ]
  },
  {
   "cell_type": "code",
   "execution_count": 86,
   "id": "0b924c34-3d8d-43d6-81b8-da9e700093ce",
   "metadata": {},
   "outputs": [
    {
     "name": "stdout",
     "output_type": "stream",
     "text": [
      "서울시 구 목록 개수 : 25\n",
      "['강남구', '강북구', '강서구', '관악구', '광진구', '금천구', '노원구', '도봉구', '동작구', '마포구', '서대문구', '서초구', '성북구', '송파구', '양천구', '영등포구', '은평구', '종로구', '중구', '강동구', '구로구', '동대문구', '성동구', '용산구', '중랑구']\n"
     ]
    }
   ],
   "source": [
    "guList = list(sbDataFrame['군구'].unique())\n",
    "print('서울시 구 목록 개수 : %d' % len(guList))\n",
    "print(guList)"
   ]
  },
  {
   "cell_type": "code",
   "execution_count": 92,
   "id": "3dec4c35-bf12-438d-98dc-da146d4e4557",
   "metadata": {},
   "outputs": [],
   "source": [
    "# 이디야 매장\n",
    "ediya_url = 'https://ediya.com/contents/find_store.html'\n",
    "driver.get(ediya_url)"
   ]
  },
  {
   "cell_type": "code",
   "execution_count": 93,
   "id": "e6cf6e43-6c77-4111-bdbf-795af7aa2b6c",
   "metadata": {},
   "outputs": [],
   "source": [
    "# 이디야 '매장명'과 '주소' 검색에서 '주소' 클릭\n",
    "\n",
    "ediya_address_selector = '#contentWrap > div.contents > div > div.store_search_pop > ul > li:nth-child(2) > a'\n",
    "WebDriverWait(driver, 5).until(EC.presence_of_element_located((By.CSS_SELECTOR, ediya_address_selector))).click() # 5초 텀을 두고 클릭한다?\n"
   ]
  },
  {
   "cell_type": "code",
   "execution_count": null,
   "id": "74c7041a-7349-4fc5-a5c9-fb0466bac186",
   "metadata": {},
   "outputs": [],
   "source": [
    "# 누락된 위도와 경도 정보는 kakao api를 이용하여 채워 넣도록 합니다.\n",
    "# https://developers.kakao.com/\n",
    "# kakao에 로그인하여 API 키 발급 받기"
   ]
  },
  {
   "cell_type": "code",
   "execution_count": 94,
   "id": "27a52985-0968-440c-9101-409a67a228ec",
   "metadata": {},
   "outputs": [],
   "source": [
    "url_header = 'https://dapi.kakao.com/v2/local/search/address.json?query='\n",
    "api_key = '91e7f42cf0a9ac2e61446d7b262a86db'\n",
    "header = {'Authorization': 'KakaoAK ' + api_key}"
   ]
  },
  {
   "cell_type": "code",
   "execution_count": 136,
   "id": "482d1fe2-8a4c-4602-8964-20e8a1a9eba8",
   "metadata": {},
   "outputs": [],
   "source": [
    "# 주소를 입력 받아서 위도와 경도를 반환해주는 함수 구현하기\n",
    "def getGeoCoder(address):\n",
    "    result = \"\"\n",
    "    url = url_header + address\n",
    "    response = requests.get(url, headers=header)\n",
    "    # print(response) # 성공시 <Response [200]>으로 리턴 됨\n",
    "    # print(response.json())\n",
    "    if response.status_code == 200:\n",
    "        try:\n",
    "            result_address = response.json()[\"documents\"][0][\"address\"]\n",
    "            result = result_address[\"y\"], result_address[\"x\"]\n",
    "        except Exception as err:\n",
    "            return None\n",
    "    else:\n",
    "        result = \"ERROR[\" + str(response.status_code) + \"]\"\n",
    "\n",
    "    return result # tuple 타입\n",
    "# end def"
   ]
  },
  {
   "cell_type": "code",
   "execution_count": 135,
   "id": "d6c9bde3-7d1c-4644-bc31-3aa61a490112",
   "metadata": {},
   "outputs": [
    {
     "name": "stdout",
     "output_type": "stream",
     "text": [
      "{'documents': [], 'meta': {'is_end': True, 'pageable_count': 0, 'total_count': 0}}\n"
     ]
    }
   ],
   "source": [
    "# 한 개의 매장에 대한 테스트를 진행합니다.\n",
    "#geoInfo = getGeoCoder('서울 중랑구 망우로 460 (망우동)') # 잘 동작하는 주소\n",
    "geoInfo = getGeoCoder('서울 노원구 한글비석로 409 (상계동) 1~2층') # NoneType이 리턴되는 주소\n",
    "geoInfo"
   ]
  },
  {
   "cell_type": "code",
   "execution_count": 1,
   "id": "4b7caced-7a70-4656-b4cc-cbe05aa025e5",
   "metadata": {},
   "outputs": [
    {
     "ename": "NameError",
     "evalue": "name 'tqdm' is not defined",
     "output_type": "error",
     "traceback": [
      "\u001b[1;31m---------------------------------------------------------------------------\u001b[0m",
      "\u001b[1;31mNameError\u001b[0m                                 Traceback (most recent call last)",
      "Cell \u001b[1;32mIn[1], line 3\u001b[0m\n\u001b[0;32m      1\u001b[0m ediyaData \u001b[38;5;241m=\u001b[39m []\n\u001b[1;32m----> 3\u001b[0m \u001b[38;5;28;01mfor\u001b[39;00m gu \u001b[38;5;129;01min\u001b[39;00m \u001b[43mtqdm\u001b[49m(guList):\n\u001b[0;32m      4\u001b[0m     ediya_search_keyword_css \u001b[38;5;241m=\u001b[39m \u001b[38;5;124m'\u001b[39m\u001b[38;5;124m#keyword\u001b[39m\u001b[38;5;124m'\u001b[39m\n\u001b[0;32m      6\u001b[0m     \u001b[38;5;66;03m# 이디야 주소 검색어 초기화\u001b[39;00m\n",
      "\u001b[1;31mNameError\u001b[0m: name 'tqdm' is not defined"
     ]
    }
   ],
   "source": [
    "ediyaData = []\n",
    "\n",
    "for gu in tqdm(guList):\n",
    "    ediya_search_keyword_css = '#keyword'\n",
    "    \n",
    "    # 이디야 주소 검색어 초기화\n",
    "    WebDriverWait(driver, 10).until(EC.presence_of_element_located((By.CSS_SELECTOR, ediya_search_keyword_css))).clear()\n",
    "    \n",
    "    # 이디야 주소 검색어 입력\n",
    "    # f\"서울 {gu}\" : f-string 기법, 서울 중구, 서울 마포구 등등\n",
    "    WebDriverWait(driver, 10).until(EC.presence_of_element_located\n",
    "                                    ((By.CSS_SELECTOR, ediya_search_keyword_css))).send_keys(f\"서울 {gu}\")\n",
    "\n",
    "    # 이디야 주소 검색 버튼 클릭\n",
    "    ediya_search_button_css = '#keyword_div > form > button'\n",
    "    WebDriverWait(driver, 10).until(EC.presence_of_element_located((By.CSS_SELECTOR, ediya_search_button_css))).click()\n",
    "\n",
    "    html = driver.page_source # 각 구별 매장 정보를 담고 있는 html 소스 \n",
    "\n",
    "    # 개별 구에 대한 결과를 파일로 저장해 봅니다.\n",
    "    # filename = open(f'서울 {gu}.html', 'w', encoding='UTF-8')\n",
    "    # print(html, file=filename)\n",
    "    # filename.close()\n",
    "    # print(f'서울 {gu}.html 파일 생성')\n",
    "\n",
    "    soup = BeautifulSoup(html, 'html.parser')\n",
    "    ul_tag = soup.find('ul', id='placesList')\n",
    "\n",
    "    oneGuEdiyaList = ul_tag.find_all('li')\n",
    "    for store in oneGuEdiyaList:\n",
    "        # print(store)\n",
    "        brand = '이디야'\n",
    "        name = store.find('dt').text.strip()\n",
    "        adress = store.find('dd').text.strip()\n",
    "        imsi = address.split(' ')\n",
    "        sido = imsi[0]\n",
    "        gu = imsi[1]\n",
    "\n",
    "        # 위도/경도 정보가 들어 있는 문자열\n",
    "        geoInfoString = store.find('a')['onclick']\n",
    "        geoInfoImsi = geoInfoString # 중간에 변형이 이루어 지므로 임시 복사\n",
    "\n",
    "        # 넘파이의 nan으로 무의미한 데이터 만들기\n",
    "        latitude = np.nan # 위도\n",
    "        longitude = np.nan # 경도\n",
    "        latLong = ['0', '0']\n",
    "\n",
    "        if geoInfoString.startswith(\"panLatTo\"): \n",
    "            # 올바른 위도/경도가 아님\n",
    "            try:\n",
    "                if geoInfoString.index(r\"panLatTo('0','0'\") == 0: \n",
    "                    geoInfo = getGeoCoder(address) \n",
    "                    if geoInfo != None:\n",
    "                        latitude = geoInfo[0] # 위도\n",
    "                        longitude = geoInfo[1] # 경도\n",
    "                    else:\n",
    "                        print(address)                \n",
    "            except ValueError as err:\n",
    "                # 올바른 위도/경도입니다.\n",
    "                latLong = geoInfoString.replace(r\"panLatTo('\", '').replace(r\"');fnMove();\", '')\n",
    "                latLong = latLong.split(\"','\")\n",
    "        \n",
    "                latitude = latLong[1] \n",
    "                longitude = latLong[0]                \n",
    "            # end try\n",
    "\n",
    "        else: # 'panAddTo'으로 시작하는 경우\n",
    "            geoInfo = getGeoCoder(address) \n",
    "            if geoInfo != None:\n",
    "                latitude = geoInfo[0] # 위도\n",
    "                longitude = geoInfo[1] # 경도\n",
    "            else:\n",
    "                print(address)\n",
    "        # end if\n",
    "\n",
    "        # 올바른 위도 경도 형식이 아니면\n",
    "        if latLong[1] == '0' or latLong[0] == '0':            \n",
    "            # 카카오 지도 api 이용하여 위도와 경도를 취득합니다.\n",
    "            geoInfo = getGeoCoder(address) \n",
    "            if geoInfo != None:\n",
    "                latitude = geoInfo[0] # 위도\n",
    "                longitude = geoInfo[1] # 경도\n",
    "            else:\n",
    "                print(address)\n",
    "        # end if\n",
    "        \n",
    "        ediyaData.append([brand, name, address, gu, latitude, longitude, geoInfoImsi]) \n",
    "    \n",
    "        # break\n",
    "    # print('-'*30)\n",
    "\n",
    "# end for\n",
    "\n",
    "print('이디야 매장 개수 : %d' % len(ediyaData))"
   ]
  },
  {
   "cell_type": "code",
   "execution_count": 129,
   "id": "47a17fc2-dc3b-4920-bbec-46b1460d790f",
   "metadata": {},
   "outputs": [
    {
     "name": "stdout",
     "output_type": "stream",
     "text": [
      "        브랜드    상호                    주소   군구                위도  \\\n",
      "count   573   573                   573  573               573   \n",
      "unique    1   573                     1    1               271   \n",
      "top     이디야  원효로점  서울특별시 중랑구 봉화산로 35 1층  중랑구  37.6018095864644   \n",
      "freq    573     1                   573  573               303   \n",
      "\n",
      "                      경도                      geoInfoImsi  \n",
      "count                573                              573  \n",
      "unique               271                              475  \n",
      "top     127.078324330908  panLatTo('0','0','5');fnMove();  \n",
      "freq                 303                                9  \n",
      "위도 누락 데이터 개수 : 0\n",
      "경도 누락 데이터 개수 : 0\n"
     ]
    }
   ],
   "source": [
    "ediyaDataFrame = pd.DataFrame(ediyaData)\n",
    "ediyaDataFrame.columns = ['브랜드', '상호', '주소', '군구', '위도', '경도', 'geoInfoImsi']\n",
    "# print(ediyaDataFrame.head())\n",
    "print(ediyaDataFrame.describe())\n",
    "\n",
    "# ediyaDataFrame.isnull().sum()\n",
    "\n",
    "print('위도 누락 데이터 개수 : %d' % ediyaDataFrame['위도'].isnull().sum())\n",
    "print('경도 누락 데이터 개수 : %d' % ediyaDataFrame['경도'].isnull().sum())\n"
   ]
  },
  {
   "cell_type": "code",
   "execution_count": 138,
   "id": "30e84381-4d46-4697-9c42-26ef3d140a57",
   "metadata": {},
   "outputs": [
    {
     "name": "stdout",
     "output_type": "stream",
     "text": [
      "스타 벅스 매장 개수 : 615\n",
      "이디야 매장 개수 : 573\n"
     ]
    }
   ],
   "source": [
    "print('스타 벅스 매장 개수 : %d' % len(sbDataFrame))\n",
    "print('이디야 매장 개수 : %d' % len(ediyaDataFrame))"
   ]
  },
  {
   "cell_type": "code",
   "execution_count": 139,
   "id": "e83e85ed-0f86-4439-9a46-33da0014e083",
   "metadata": {},
   "outputs": [
    {
     "name": "stdout",
     "output_type": "stream",
     "text": [
      "전체 매장 개수 : 1188\n"
     ]
    }
   ],
   "source": [
    "# 임시 컬럼을 제거하고, 두 매장의 데이터 프레임을 합칩니다.\n",
    "ediyaDataFrame = ediyaDataFrame.drop('geoInfoImsi', axis=1) # axis=1 이면 컬럼\n",
    "coffeeFrame = pd.concat([sbDataFrame, ediyaDataFrame])\n",
    "print('전체 매장 개수 : %d' % len(coffeeFrame))"
   ]
  },
  {
   "cell_type": "code",
   "execution_count": 150,
   "id": "54c7ab08-f350-4a6f-8cef-bae318e63777",
   "metadata": {},
   "outputs": [
    {
     "name": "stdout",
     "output_type": "stream",
     "text": [
      "coffeeList.csv파일 저장됨\n"
     ]
    }
   ],
   "source": [
    "filename = 'coffeeList.csv'\n",
    "# coffeeFrame.to_csv(filename, encoding='CP949', index=False) # 엑셀에서 한글 안깨지고 보려면\n",
    "coffeeFrame.to_csv(filename, encoding='UTF-8', index=False) # 일반적인 방법\n",
    "print(filename + '파일 저장됨')"
   ]
  },
  {
   "cell_type": "code",
   "execution_count": 151,
   "id": "6d7d0db3-59d5-422b-b1c5-71721398fef0",
   "metadata": {},
   "outputs": [
    {
     "name": "stdout",
     "output_type": "stream",
     "text": [
      "302\n"
     ]
    }
   ],
   "source": [
    "print(coffeeFrame.duplicated(subset=['위도', '경도']).sum())"
   ]
  },
  {
   "cell_type": "code",
   "execution_count": null,
   "id": "5f79e979-191f-4415-ad48-f0511ac45350",
   "metadata": {},
   "outputs": [],
   "source": []
  },
  {
   "cell_type": "code",
   "execution_count": null,
   "id": "49af93d2-aca7-4c72-ae69-a337a3465208",
   "metadata": {},
   "outputs": [],
   "source": []
  },
  {
   "cell_type": "code",
   "execution_count": null,
   "id": "5536ab2d-ad26-4f79-9262-7549a2653fab",
   "metadata": {},
   "outputs": [],
   "source": []
  },
  {
   "cell_type": "code",
   "execution_count": null,
   "id": "cf93b5fb-d8b4-4112-8297-a0d232691710",
   "metadata": {},
   "outputs": [],
   "source": []
  },
  {
   "cell_type": "code",
   "execution_count": null,
   "id": "adaf0193-24e8-47dd-8b6d-12162767e49d",
   "metadata": {},
   "outputs": [],
   "source": []
  },
  {
   "cell_type": "code",
   "execution_count": null,
   "id": "c1d4a064-0646-4341-bf1b-5b04ba8dfe4a",
   "metadata": {},
   "outputs": [],
   "source": []
  }
 ],
 "metadata": {
  "kernelspec": {
   "display_name": "Python 3 (ipykernel)",
   "language": "python",
   "name": "python3"
  },
  "language_info": {
   "codemirror_mode": {
    "name": "ipython",
    "version": 3
   },
   "file_extension": ".py",
   "mimetype": "text/x-python",
   "name": "python",
   "nbconvert_exporter": "python",
   "pygments_lexer": "ipython3",
   "version": "3.12.4"
  }
 },
 "nbformat": 4,
 "nbformat_minor": 5
}
