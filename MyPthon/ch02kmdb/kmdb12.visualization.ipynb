{
 "cells": [
  {
   "cell_type": "code",
   "execution_count": 1,
   "id": "ecebc1e4-58f4-4d56-9bad-88374c1e852c",
   "metadata": {},
   "outputs": [],
   "source": [
    "# 파일 이름 : ch02kmdb/kmdb12.visualization.ipynb\n",
    "import pandas as pd\n",
    "dataInFolder = './../data/'"
   ]
  },
  {
   "cell_type": "code",
   "execution_count": 2,
   "id": "3c95ce42-aaa9-4e24-bc2b-6acf786151f6",
   "metadata": {},
   "outputs": [
    {
     "name": "stdout",
     "output_type": "stream",
     "text": [
      "Index(['movieCd', 'movieNm', 'movieNmEn', 'prdtYear', 'openDt', 'typeNm',\n",
      "       'prdtStatNm', 'nationAlt', 'genreAlt', 'repNationNm', 'repGenreNm'],\n",
      "      dtype='object')\n"
     ]
    }
   ],
   "source": [
    "kmdb = pd.read_csv(dataInFolder + 'kmdb_get_movie_list_20231103.csv')\n",
    "print(kmdb.columns)"
   ]
  },
  {
   "cell_type": "code",
   "execution_count": null,
   "id": "80b585a2-8e68-48ef-a01d-d7d5bf58b86d",
   "metadata": {},
   "outputs": [],
   "source": []
  },
  {
   "cell_type": "code",
   "execution_count": null,
   "id": "ff6c29d1-1250-446a-957b-19bf052e3b61",
   "metadata": {},
   "outputs": [],
   "source": []
  },
  {
   "cell_type": "code",
   "execution_count": null,
   "id": "e226f650-0c4e-4a27-9219-c1585b160266",
   "metadata": {},
   "outputs": [],
   "source": []
  },
  {
   "cell_type": "code",
   "execution_count": null,
   "id": "70d398d1-6f17-4924-828a-0f46c960fa76",
   "metadata": {},
   "outputs": [],
   "source": []
  },
  {
   "cell_type": "code",
   "execution_count": null,
   "id": "a1482d67-103c-433c-85aa-9e7458e5867d",
   "metadata": {},
   "outputs": [],
   "source": []
  },
  {
   "cell_type": "code",
   "execution_count": null,
   "id": "ab8a1905-e39b-4063-896e-7c6e8a95720e",
   "metadata": {},
   "outputs": [],
   "source": []
  },
  {
   "cell_type": "code",
   "execution_count": null,
   "id": "6849860c-dfa6-41d4-863f-3280b50e2f16",
   "metadata": {},
   "outputs": [],
   "source": []
  },
  {
   "cell_type": "code",
   "execution_count": null,
   "id": "ab01029b-fcdb-4b07-b8ed-cf1ff6541949",
   "metadata": {},
   "outputs": [],
   "source": []
  },
  {
   "cell_type": "code",
   "execution_count": null,
   "id": "80af0611-f8c0-49a1-aed6-d0ca8adaceb2",
   "metadata": {},
   "outputs": [],
   "source": []
  },
  {
   "cell_type": "code",
   "execution_count": null,
   "id": "1787fb2f-df66-4418-8287-7415e17fdffa",
   "metadata": {},
   "outputs": [],
   "source": []
  },
  {
   "cell_type": "code",
   "execution_count": null,
   "id": "2331e0a4-4258-4344-9947-b41276a5d581",
   "metadata": {},
   "outputs": [],
   "source": []
  }
 ],
 "metadata": {
  "kernelspec": {
   "display_name": "Python 3 (ipykernel)",
   "language": "python",
   "name": "python3"
  },
  "language_info": {
   "codemirror_mode": {
    "name": "ipython",
    "version": 3
   },
   "file_extension": ".py",
   "mimetype": "text/x-python",
   "name": "python",
   "nbconvert_exporter": "python",
   "pygments_lexer": "ipython3",
   "version": "3.12.4"
  }
 },
 "nbformat": 4,
 "nbformat_minor": 5
}
