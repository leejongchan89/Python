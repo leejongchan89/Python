{
 "cells": [
  {
   "cell_type": "code",
   "execution_count": 3,
   "id": "7e77bf58-d187-4d7e-b2c6-fac26a330b4e",
   "metadata": {},
   "outputs": [],
   "source": [
    "import pandas as pd\n",
    "import numpy as np\n",
    "import folium\n",
    "import requests\n",
    "\n",
    "from bs4 import BeautifulSoup\n",
    "\n",
    "# pip install tqdm : progressBar 구현\n",
    "from tqdm.notebook import tqdm \n",
    "from selenium import webdriver\n",
    "\n",
    "from selenium.webdriver.common.by import By\n",
    "from selenium.webdriver.support.ui import WebDriverWait\n",
    "from selenium.webdriver.support import expected_conditions as EC\n",
    "from selenium.webdriver.chrome.service import Service\n",
    "\n",
    "# jupyter nbconvert --to script coffeeStore.ipynb"
   ]
  },
  {
   "cell_type": "code",
   "execution_count": 6,
   "id": "4ae71fa7-0047-462e-b0a4-ff4d73564f5d",
   "metadata": {},
   "outputs": [
    {
     "name": "stdout",
     "output_type": "stream",
     "text": [
      "<class 'selenium.webdriver.chrome.webdriver.WebDriver'>\n"
     ]
    }
   ],
   "source": [
    "chrome_options = webdriver.ChromeOptions() # 크롬 브라우저 옵션\n",
    "drive_path = 'C:/Users/ict-08/Downloads/chromedriver-win64/chromedriver-win64/chromedriver.exe' # 다운로드 받은 드라이버 파일\n",
    "myservice = Service(drive_path) # 드라이버 제어를 위한 서비스 객체\n",
    "driver = webdriver.Chrome(service=myservice, options=chrome_options) # 드라이버 객체\n",
    "print(type(driver)) # 객체가 잘 생성되었는 지 확인\n",
    "\n",
    "wait_time = 10 # 최대 대기 시간\n",
    "driver.implicitly_wait(wait_time)"
   ]
  },
  {
   "cell_type": "code",
   "execution_count": 7,
   "id": "fdb28f6a-2697-403c-a5df-67d6a7b69424",
   "metadata": {},
   "outputs": [],
   "source": [
    "driver.maximize_window() # 윈도우 창 최대화"
   ]
  },
  {
   "cell_type": "markdown",
   "id": "112d1728-8218-4a56-a9f6-c5611f4cb7f9",
   "metadata": {},
   "source": [
    "네이버 뉴스 국민일보 랭킹 페이지 url 이동"
   ]
  },
  {
   "cell_type": "code",
   "execution_count": 11,
   "id": "c10045a0-d786-4849-954d-e760a704aa1e",
   "metadata": {},
   "outputs": [],
   "source": [
    "kookmin_ranking_url = 'https://media.naver.com/press/005/ranking?type=popular&date=20240813'\n",
    "driver.get(kookmin_ranking_url) # 해당 페이지로 이동하기"
   ]
  },
  {
   "cell_type": "markdown",
   "id": "d616febc-ed2f-4819-a250-c0ea728c5de3",
   "metadata": {},
   "source": [
    "html 코드를 파싱하여 html 파일에 기록"
   ]
  },
  {
   "cell_type": "code",
   "execution_count": 12,
   "id": "123018e4-6b6c-4be6-af23-cac572863b19",
   "metadata": {},
   "outputs": [
    {
     "name": "stdout",
     "output_type": "stream",
     "text": [
      "kookmin.html 파일 생성됨\n"
     ]
    }
   ],
   "source": [
    "html = driver.page_source # 해당 페이지의 소스 코드 반환\n",
    "filename = 'kookmin.html'\n",
    "htmlfile = open(filename, 'w', encoding='UTF-8')\n",
    "print(html, file=htmlfile)\n",
    "htmlfile.close()\n",
    "print(filename + ' 파일 생성됨')"
   ]
  },
  {
   "cell_type": "code",
   "execution_count": null,
   "id": "abc2d191-8d57-4fae-93a2-b2c462a4222f",
   "metadata": {},
   "outputs": [],
   "source": [
    "https://www.crummy.com/software/BeautifulSoup/bs4/doc/\n",
    "파싱된 결과를 Beautiful Soup 객체로 생성합니다."
   ]
  },
  {
   "cell_type": "code",
   "execution_count": 15,
   "id": "ffb05e42-7595-4781-8c22-d0b816e0f807",
   "metadata": {},
   "outputs": [
    {
     "name": "stdout",
     "output_type": "stream",
     "text": [
      "<class 'bs4.BeautifulSoup'>\n"
     ]
    }
   ],
   "source": [
    "soup = BeautifulSoup(html, 'html.parser')\n",
    "print(type(soup))"
   ]
  },
  {
   "cell_type": "markdown",
   "id": "60e4f61c-0ac6-43a8-a536-0b9d099b545f",
   "metadata": {},
   "source": [
    "랭킹 순위(list_ranking_num), 기사 제목(list_title)\n",
    "\n",
    "매장 정보들을 담고 있는 컨테이너 박스를 찾습니다.\n",
    "컨테이너는 div 태그이고, id가 mCSB_3_container입니다."
   ]
  },
  {
   "cell_type": "code",
   "execution_count": 21,
   "id": "6b8fbb86-f745-4056-83f4-79437205d6fe",
   "metadata": {},
   "outputs": [
    {
     "name": "stdout",
     "output_type": "stream",
     "text": [
      "articleAll : 10\n",
      "[<li class=\"as_thumb\">\n",
      "<a class=\"_es_pc_link\" data-pc-link=\"\" href=\"https://n.news.naver.com/article/005/0001717651?ntype=RANKING\" onclick=\"nclk(event, 'rnk.rnknws','','')\">\n",
      "<em class=\"list_ranking_num\">1</em>\n",
      "<div class=\"list_content\">\n",
      "<strong class=\"list_title\">“넷플릭스로 유명해진 한국 관광, 덧없다” 등돌린 태국</strong>\n",
      "<span class=\"list_view\">\n",
      "<span class=\"blind\">조회수</span>\n",
      "                                                    290,199\n",
      "                                                \n",
      "                                            \n",
      "                                            \n",
      "                                        \n",
      "                                    </span>\n",
      "</div>\n",
      "<div class=\"list_img\">\n",
      "<img height=\"100%\" onerror=\"showNoImage(this)\" src=\"https://mimgnews.pstatic.net/image/origin/005/2024/08/13/1717651.jpg?type=nf148_148\" width=\"100%\"/>\n",
      "</div>\n",
      "</a>\n",
      "</li>, <li class=\"as_thumb\">\n",
      "<a class=\"_es_pc_link\" data-pc-link=\"\" href=\"https://n.news.naver.com/article/005/0001717570?ntype=RANKING\" onclick=\"nclk(event, 'rnk.rnknws','','')\">\n",
      "<em class=\"list_ranking_num\">2</em>\n",
      "<div class=\"list_content\">\n",
      "<strong class=\"list_title\">‘세계 1위’ 안세영 작년 수익 9억… 13위는 97억</strong>\n",
      "<span class=\"list_view\">\n",
      "<span class=\"blind\">조회수</span>\n",
      "                                                    233,734\n",
      "                                                \n",
      "                                            \n",
      "                                            \n",
      "                                        \n",
      "                                    </span>\n",
      "</div>\n",
      "<div class=\"list_img\">\n",
      "<img height=\"100%\" onerror=\"showNoImage(this)\" src=\"https://mimgnews.pstatic.net/image/origin/005/2024/08/13/1717570.jpg?type=nf148_148\" width=\"100%\"/>\n",
      "</div>\n",
      "</a>\n",
      "</li>, <li class=\"as_thumb\">\n",
      "<a class=\"_es_pc_link\" data-pc-link=\"\" href=\"https://n.news.naver.com/article/005/0001717675?ntype=RANKING\" onclick=\"nclk(event, 'rnk.rnknws','','')\">\n",
      "<em class=\"list_ranking_num\">3</em>\n",
      "<div class=\"list_content\">\n",
      "<strong class=\"list_title\">아내 명의로 재산 돌리고 자살한 사기꾼… “유족이 갚아야” 판결</strong>\n",
      "<span class=\"list_view\">\n",
      "<span class=\"blind\">조회수</span>\n",
      "                                                    158,754\n",
      "                                                \n",
      "                                            \n",
      "                                            \n",
      "                                        \n",
      "                                    </span>\n",
      "</div>\n",
      "<div class=\"list_img\">\n",
      "<img height=\"100%\" onerror=\"showNoImage(this)\" src=\"https://mimgnews.pstatic.net/image/origin/005/2024/08/13/1717675.jpg?type=nf148_148\" width=\"100%\"/>\n",
      "</div>\n",
      "</a>\n",
      "</li>, <li class=\"as_thumb\">\n",
      "<a class=\"_es_pc_link\" data-pc-link=\"\" href=\"https://n.news.naver.com/article/005/0001717583?ntype=RANKING\" onclick=\"nclk(event, 'rnk.rnknws','','')\">\n",
      "<em class=\"list_ranking_num\">4</em>\n",
      "<div class=\"list_content\">\n",
      "<strong class=\"list_title\">‘음주 뺑소니’ 김호중 10월까지 구치소 살이 연장</strong>\n",
      "<span class=\"list_view\">\n",
      "<span class=\"blind\">조회수</span>\n",
      "                                                    128,265\n",
      "                                                \n",
      "                                            \n",
      "                                            \n",
      "                                        \n",
      "                                    </span>\n",
      "</div>\n",
      "<div class=\"list_img\">\n",
      "<img height=\"100%\" onerror=\"showNoImage(this)\" src=\"https://mimgnews.pstatic.net/image/origin/005/2024/08/13/1717583.jpg?type=nf148_148\" width=\"100%\"/>\n",
      "</div>\n",
      "</a>\n",
      "</li>, <li class=\"as_thumb\">\n",
      "<a class=\"_es_pc_link\" data-pc-link=\"\" href=\"https://n.news.naver.com/article/005/0001717660?ntype=RANKING\" onclick=\"nclk(event, 'rnk.rnknws','','')\">\n",
      "<em class=\"list_ranking_num\">5</em>\n",
      "<div class=\"list_content\">\n",
      "<strong class=\"list_title\">‘음주운전’ BTS 슈가 탈퇴 촉구 ‘근조화환’… 하이브앞 등장</strong>\n",
      "<span class=\"list_view\">\n",
      "<span class=\"blind\">조회수</span>\n",
      "                                                    110,414\n",
      "                                                \n",
      "                                            \n",
      "                                            \n",
      "                                        \n",
      "                                    </span>\n",
      "</div>\n",
      "<div class=\"list_img\">\n",
      "<img height=\"100%\" onerror=\"showNoImage(this)\" src=\"https://mimgnews.pstatic.net/image/origin/005/2024/08/13/1717660.jpg?type=nf148_148\" width=\"100%\"/>\n",
      "</div>\n",
      "</a>\n",
      "</li>, <li class=\"as_thumb\">\n",
      "<a class=\"_es_pc_link\" data-pc-link=\"\" href=\"https://n.news.naver.com/article/005/0001717466?ntype=RANKING\" onclick=\"nclk(event, 'rnk.rnknws','','')\">\n",
      "<em class=\"list_ranking_num\">6</em>\n",
      "<div class=\"list_content\">\n",
      "<strong class=\"list_title\">“지진운” “8월14일 대지진?” 허위정보 확산하는 일본</strong>\n",
      "<span class=\"list_view\">\n",
      "<span class=\"blind\">조회수</span>\n",
      "                                                    96,107\n",
      "                                                \n",
      "                                            \n",
      "                                            \n",
      "                                        \n",
      "                                    </span>\n",
      "</div>\n",
      "<div class=\"list_img\">\n",
      "<img height=\"100%\" onerror=\"showNoImage(this)\" src=\"https://mimgnews.pstatic.net/image/origin/005/2024/08/13/1717466.jpg?type=nf148_148\" width=\"100%\"/>\n",
      "</div>\n",
      "</a>\n",
      "</li>, <li class=\"as_thumb\">\n",
      "<a class=\"_es_pc_link\" data-pc-link=\"\" href=\"https://n.news.naver.com/article/005/0001717465?ntype=RANKING\" onclick=\"nclk(event, 'rnk.rnknws','','')\">\n",
      "<em class=\"list_ranking_num\">7</em>\n",
      "<div class=\"list_content\">\n",
      "<strong class=\"list_title\">입건된 36주 낙태 여성·의사… ‘살인이냐, 사산이냐’</strong>\n",
      "<span class=\"list_view\">\n",
      "<span class=\"blind\">조회수</span>\n",
      "                                                    57,774\n",
      "                                                \n",
      "                                            \n",
      "                                            \n",
      "                                        \n",
      "                                    </span>\n",
      "</div>\n",
      "<div class=\"list_img\">\n",
      "<img height=\"100%\" onerror=\"showNoImage(this)\" src=\"https://mimgnews.pstatic.net/image/origin/005/2024/08/13/1717465.jpg?type=nf148_148\" width=\"100%\"/>\n",
      "</div>\n",
      "</a>\n",
      "</li>, <li class=\"as_thumb\">\n",
      "<a class=\"_es_pc_link\" data-pc-link=\"\" href=\"https://n.news.naver.com/article/005/0001717578?ntype=RANKING\" onclick=\"nclk(event, 'rnk.rnknws','','')\">\n",
      "<em class=\"list_ranking_num\">8</em>\n",
      "<div class=\"list_content\">\n",
      "<strong class=\"list_title\">회식 후 실종… 사흘 만에 골프 해저드서 숨진 채 발견</strong>\n",
      "<span class=\"list_view\">\n",
      "<span class=\"blind\">조회수</span>\n",
      "                                                    54,934\n",
      "                                                \n",
      "                                            \n",
      "                                            \n",
      "                                        \n",
      "                                    </span>\n",
      "</div>\n",
      "<div class=\"list_img\">\n",
      "<img height=\"100%\" onerror=\"showNoImage(this)\" src=\"https://mimgnews.pstatic.net/image/origin/005/2024/08/13/1717578.jpg?type=nf148_148\" width=\"100%\"/>\n",
      "</div>\n",
      "</a>\n",
      "</li>, <li class=\"as_thumb\">\n",
      "<a class=\"_es_pc_link\" data-pc-link=\"\" href=\"https://n.news.naver.com/article/005/0001717728?ntype=RANKING\" onclick=\"nclk(event, 'rnk.rnknws','','')\">\n",
      "<em class=\"list_ranking_num\">9</em>\n",
      "<div class=\"list_content\">\n",
      "<strong class=\"list_title\">“이번 역은 ‘성수(올리브영)’역입니다”… 10억에 팔린 공공재</strong>\n",
      "<span class=\"list_view\">\n",
      "<span class=\"blind\">조회수</span>\n",
      "                                                    48,105\n",
      "                                                \n",
      "                                            \n",
      "                                            \n",
      "                                        \n",
      "                                    </span>\n",
      "</div>\n",
      "<div class=\"list_img\">\n",
      "<img height=\"100%\" onerror=\"showNoImage(this)\" src=\"https://mimgnews.pstatic.net/image/origin/005/2024/08/13/1717728.jpg?type=nf148_148\" width=\"100%\"/>\n",
      "</div>\n",
      "</a>\n",
      "</li>, <li class=\"as_thumb\">\n",
      "<a class=\"_es_pc_link\" data-pc-link=\"\" href=\"https://n.news.naver.com/article/005/0001717469?ntype=RANKING\" onclick=\"nclk(event, 'rnk.rnknws','','')\">\n",
      "<em class=\"list_ranking_num\">10</em>\n",
      "<div class=\"list_content\">\n",
      "<strong class=\"list_title\">“이러다 다 죽어”… 국내 음극재 업계 절체절명 위기</strong>\n",
      "<span class=\"list_view\">\n",
      "<span class=\"blind\">조회수</span>\n",
      "                                                    47,011\n",
      "                                                \n",
      "                                            \n",
      "                                            \n",
      "                                        \n",
      "                                    </span>\n",
      "</div>\n",
      "<div class=\"list_img\">\n",
      "<img height=\"100%\" onerror=\"showNoImage(this)\" src=\"https://mimgnews.pstatic.net/image/origin/005/2024/08/13/1717469.jpg?type=nf148_148\" width=\"100%\"/>\n",
      "</div>\n",
      "</a>\n",
      "</li>]\n"
     ]
    }
   ],
   "source": [
    "container = soup.find('div', attrs={'class': 'press_ranking_box'})\n",
    "articleAll = container.find_all('li')\n",
    "print('articleAll : %d' % len(articleAll))\n",
    "print(articleAll)"
   ]
  },
  {
   "cell_type": "code",
   "execution_count": 24,
   "id": "8bb6aa22-5cee-4243-b3cc-5204c542bf83",
   "metadata": {},
   "outputs": [
    {
     "name": "stdout",
     "output_type": "stream",
     "text": [
      "10\n",
      "[['국민일보', '1', '“넷플릭스로 유명해진 한국 관광, 덧없다” 등돌린 태국'], ['국민일보', '2', '‘세계 1위’ 안세영 작년 수익 9억… 13위는 97억'], ['국민일보', '3', '아내 명의로 재산 돌리고 자살한 사기꾼… “유족이 갚아야” 판결'], ['국민일보', '4', '‘음주 뺑소니’ 김호중 10월까지 구치소 살이 연장'], ['국민일보', '5', '‘음주운전’ BTS 슈가 탈퇴 촉구 ‘근조화환’… 하이브앞 등장'], ['국민일보', '6', '“지진운” “8월14일 대지진?” 허위정보 확산하는 일본'], ['국민일보', '7', '입건된 36주 낙태 여성·의사… ‘살인이냐, 사산이냐’'], ['국민일보', '8', '회식 후 실종… 사흘 만에 골프 해저드서 숨진 채 발견'], ['국민일보', '9', '“이번 역은 ‘성수(올리브영)’역입니다”… 10억에 팔린 공공재'], ['국민일보', '10', '“이러다 다 죽어”… 국내 음극재 업계 절체절명 위기']]\n"
     ]
    }
   ],
   "source": [
    "articleData = []\n",
    "\n",
    "for article in articleAll :\n",
    "    # print(article)\n",
    "    company = '국민일보'\n",
    "    ranking = article.find('em', attrs={'class': 'list_ranking_num'}).text.strip() # 공백 없애주기\n",
    "    article1 = article.find('strong', attrs={'class': 'list_title'}).text.strip() # 공백 없애주기\n",
    "    # print('[' + company + ']')\n",
    "    # print('[' + ranking + ']')\n",
    "    # print('[' + article1 + ']')\n",
    "\n",
    "    \n",
    "\n",
    "    articleData.append([company, ranking, article1])\n",
    "    # break\n",
    "    \n",
    "print(len(articleData))\n",
    "print(articleData)"
   ]
  },
  {
   "cell_type": "code",
   "execution_count": null,
   "id": "21cad23a-2d1f-4829-bd69-3706947fe99b",
   "metadata": {},
   "outputs": [],
   "source": []
  },
  {
   "cell_type": "code",
   "execution_count": null,
   "id": "adae444f-a556-49e4-9d3e-3f67ddcb4f85",
   "metadata": {},
   "outputs": [],
   "source": []
  },
  {
   "cell_type": "code",
   "execution_count": null,
   "id": "7b426945-ab55-46d4-91cc-ce1e9efca5a9",
   "metadata": {},
   "outputs": [],
   "source": []
  },
  {
   "cell_type": "code",
   "execution_count": null,
   "id": "1799dc78-a150-451e-9827-86f9a3b186e6",
   "metadata": {},
   "outputs": [],
   "source": []
  },
  {
   "cell_type": "code",
   "execution_count": null,
   "id": "d6aa1152-08bb-4931-9ec1-fcbed9147d6c",
   "metadata": {},
   "outputs": [],
   "source": []
  },
  {
   "cell_type": "code",
   "execution_count": null,
   "id": "70713d3b-5876-4006-996b-5662b29f783a",
   "metadata": {},
   "outputs": [],
   "source": []
  },
  {
   "cell_type": "code",
   "execution_count": null,
   "id": "d83ed31b-ea4e-4633-8976-2e79d93934d6",
   "metadata": {},
   "outputs": [],
   "source": []
  },
  {
   "cell_type": "code",
   "execution_count": null,
   "id": "1937c890-a531-4743-8036-10e2cf7bd9fd",
   "metadata": {},
   "outputs": [],
   "source": []
  },
  {
   "cell_type": "code",
   "execution_count": null,
   "id": "8a90315e-10ff-4ef8-b0b5-352a294bca33",
   "metadata": {},
   "outputs": [],
   "source": []
  },
  {
   "cell_type": "code",
   "execution_count": null,
   "id": "a14a4203-9355-45e3-8771-94b431ddff5e",
   "metadata": {},
   "outputs": [],
   "source": []
  },
  {
   "cell_type": "code",
   "execution_count": null,
   "id": "30b10ab6-cd19-4b00-be8f-6c7f7ba86297",
   "metadata": {},
   "outputs": [],
   "source": []
  },
  {
   "cell_type": "code",
   "execution_count": null,
   "id": "f8ca248e-3a1b-4366-9e38-4ed50b7052e9",
   "metadata": {},
   "outputs": [],
   "source": []
  },
  {
   "cell_type": "code",
   "execution_count": null,
   "id": "0b1fc37f-bbf7-4daa-a91f-47b20e5390ee",
   "metadata": {},
   "outputs": [],
   "source": []
  },
  {
   "cell_type": "code",
   "execution_count": null,
   "id": "92503f2d-6682-478d-b359-56c7b0a6ce9f",
   "metadata": {},
   "outputs": [],
   "source": []
  },
  {
   "cell_type": "code",
   "execution_count": null,
   "id": "9ecead42-8e77-4de3-8a8b-3528ae98a689",
   "metadata": {},
   "outputs": [],
   "source": []
  },
  {
   "cell_type": "code",
   "execution_count": null,
   "id": "97a07e71-fd5d-41cf-99d7-2d536333ab14",
   "metadata": {},
   "outputs": [],
   "source": []
  },
  {
   "cell_type": "code",
   "execution_count": null,
   "id": "edcb7a7a-2620-4f60-a1a6-027198dff69a",
   "metadata": {},
   "outputs": [],
   "source": []
  },
  {
   "cell_type": "code",
   "execution_count": null,
   "id": "d3ad6648-061b-41a7-b909-ca8031a50733",
   "metadata": {},
   "outputs": [],
   "source": []
  },
  {
   "cell_type": "code",
   "execution_count": null,
   "id": "f92751bb-4811-486b-9aea-089b5ee80993",
   "metadata": {},
   "outputs": [],
   "source": []
  },
  {
   "cell_type": "code",
   "execution_count": null,
   "id": "debcef00-9acb-4d12-9eb1-5efda8e4529b",
   "metadata": {},
   "outputs": [],
   "source": []
  },
  {
   "cell_type": "code",
   "execution_count": null,
   "id": "fef84499-60c6-4d42-ae04-1a70c431463a",
   "metadata": {},
   "outputs": [],
   "source": []
  },
  {
   "cell_type": "code",
   "execution_count": null,
   "id": "0498ebb0-e5db-45e5-b477-6809842bd61b",
   "metadata": {},
   "outputs": [],
   "source": []
  },
  {
   "cell_type": "code",
   "execution_count": null,
   "id": "8fafa83a-fae3-4681-a725-950ddc9608d5",
   "metadata": {},
   "outputs": [],
   "source": []
  }
 ],
 "metadata": {
  "kernelspec": {
   "display_name": "Python 3 (ipykernel)",
   "language": "python",
   "name": "python3"
  },
  "language_info": {
   "codemirror_mode": {
    "name": "ipython",
    "version": 3
   },
   "file_extension": ".py",
   "mimetype": "text/x-python",
   "name": "python",
   "nbconvert_exporter": "python",
   "pygments_lexer": "ipython3",
   "version": "3.12.4"
  }
 },
 "nbformat": 4,
 "nbformat_minor": 5
}
